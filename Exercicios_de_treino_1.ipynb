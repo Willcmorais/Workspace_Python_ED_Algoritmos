{
  "nbformat": 4,
  "nbformat_minor": 0,
  "metadata": {
    "colab": {
      "provenance": [],
      "authorship_tag": "ABX9TyPsS0BVeZGQQu8ksrgtxVNj",
      "include_colab_link": true
    },
    "kernelspec": {
      "name": "python3",
      "display_name": "Python 3"
    },
    "language_info": {
      "name": "python"
    }
  },
  "cells": [
    {
      "cell_type": "markdown",
      "metadata": {
        "id": "view-in-github",
        "colab_type": "text"
      },
      "source": [
        "<a href=\"https://colab.research.google.com/github/Willcmorais/Workspace_Python_ED_Algoritmos/blob/main/Exercicios_de_treino_1.ipynb\" target=\"_parent\"><img src=\"https://colab.research.google.com/assets/colab-badge.svg\" alt=\"Open In Colab\"/></a>"
      ]
    },
    {
      "cell_type": "markdown",
      "source": [
        "> Faça um programa que calcule a área de um círculo.\n",
        "\n",
        "- Peça o valor do raio."
      ],
      "metadata": {
        "id": "_eRY8vKvNCqQ"
      }
    },
    {
      "cell_type": "code",
      "execution_count": null,
      "metadata": {
        "id": "5Bd1yChaLmZQ"
      },
      "outputs": [],
      "source": [
        "class Circulo():\n",
        "    def calcula_area_circulo(self, raio):\n",
        "        self.raio = raio\n",
        "        self.area = 3.14 * (raio ** 2)\n",
        "\n",
        "    def mostra_calculo_area(self):\n",
        "        return f'A área do círculo é {self.area}'"
      ]
    },
    {
      "cell_type": "code",
      "source": [
        "c1 = Circulo()"
      ],
      "metadata": {
        "id": "kC9zD_ywNQow"
      },
      "execution_count": null,
      "outputs": []
    },
    {
      "cell_type": "code",
      "source": [
        "c1.calcula_area_circulo(5)"
      ],
      "metadata": {
        "id": "Rg3ncdWuNQc5"
      },
      "execution_count": null,
      "outputs": []
    },
    {
      "cell_type": "code",
      "source": [
        "c1.mostra_calculo_area()"
      ],
      "metadata": {
        "colab": {
          "base_uri": "https://localhost:8080/",
          "height": 36
        },
        "id": "umwCoAp0NThI",
        "outputId": "53cb5118-851a-4d02-e973-b910ce61ba88"
      },
      "execution_count": null,
      "outputs": [
        {
          "output_type": "execute_result",
          "data": {
            "text/plain": [
              "'A área do círculo é 78.5'"
            ],
            "application/vnd.google.colaboratory.intrinsic+json": {
              "type": "string"
            }
          },
          "metadata": {},
          "execution_count": 4
        }
      ]
    },
    {
      "cell_type": "markdown",
      "source": [
        "> Peça ao usuário para digitar seu nome completo. ➡️ Mostre:\n",
        "\n",
        "- O nome em maiúsculas\n",
        "\n",
        "- O nome em minúsculas\n",
        "\n",
        "- A quantidade de letras (sem contar espaços)\n",
        "\n",
        "- A primeira letra\n",
        "\n",
        "- A última letra\n",
        "\n",
        "- As três primeiras letras\n",
        "\n",
        "- As três últimas letras"
      ],
      "metadata": {
        "id": "7AKjXvQPNaZK"
      }
    },
    {
      "cell_type": "code",
      "source": [
        "nome = 'William Coelho de Morais'\n",
        "\n",
        "print('O nome em maiúsculas fica:',nome.upper())\n",
        "print('O nome em minúsculas fica:',nome.lower())\n",
        "print('A primeira letra do nome é:',nome[0])\n",
        "print('A última letra do nome é:',nome[23])\n",
        "print('O tamanho do vetor é:',len(nome))\n",
        "print('O tamanho do vetor sem espaços é:',len(nome.replace(' ', '')))\n",
        "print('As três primeiras letras do vetor são:',nome[:3])\n",
        "print('As três últimas letras do vetor são:',nome[21:])"
      ],
      "metadata": {
        "colab": {
          "base_uri": "https://localhost:8080/"
        },
        "id": "mD3SYCb5NZYA",
        "outputId": "037bfcfb-d370-4509-9792-4f8354807185"
      },
      "execution_count": null,
      "outputs": [
        {
          "output_type": "stream",
          "name": "stdout",
          "text": [
            "O nome em maiúsculas fica: WILLIAM COELHO DE MORAIS\n",
            "O nome em minúsculas fica: william coelho de morais\n",
            "A primeira letra do nome é: W\n",
            "A última letra do nome é: s\n",
            "O tamanho do vetor é: 24\n",
            "O tamanho do vetor sem espaços é: 21\n",
            "As três primeiras letras do vetor são: Wil\n",
            "As três últimas letras do vetor são: ais\n"
          ]
        }
      ]
    },
    {
      "cell_type": "markdown",
      "source": [
        "> Peça ao usuário uma frase. ➡️ Pergunte depois por uma palavra a ser procurada.\n",
        "\n",
        "- Verifique se a palavra aparece na frase\n",
        "\n",
        "- Se sim, diga em qual posição aparece pela primeira vez"
      ],
      "metadata": {
        "id": "La6gJytjNmOb"
      }
    },
    {
      "cell_type": "code",
      "source": [
        "frase = 'Vou na casa de maria hoje'\n",
        "\n",
        "print('A frase procurada inicia no índice:',frase.find('maria'))"
      ],
      "metadata": {
        "colab": {
          "base_uri": "https://localhost:8080/"
        },
        "id": "Zvf17EdUNji7",
        "outputId": "4cc33daa-52b6-4b5b-da0b-cf1f3ed80590"
      },
      "execution_count": null,
      "outputs": [
        {
          "output_type": "stream",
          "name": "stdout",
          "text": [
            "A frase procurada inicia no índice: 15\n"
          ]
        }
      ]
    },
    {
      "cell_type": "markdown",
      "source": [
        "> Peça dois números ao usuário e exiba:\n",
        "\n",
        "- A soma\n",
        "\n",
        "- A diferença\n",
        "\n",
        "- A divisão (resto da divisão e divisão inteira)"
      ],
      "metadata": {
        "id": "EOHcIPT8NuBc"
      }
    },
    {
      "cell_type": "code",
      "source": [
        "def operacoes(valor1, valor2):\n",
        "  print('A soma dos valores foi:', valor1 + valor2)\n",
        "  print('A subtração dos valores foi:', valor1 - valor2)\n",
        "  print('A divisão dos valores foi:', valor1 / valor2)\n",
        "  print('O resto da divisão dos valores foi:', valor1 % valor2)\n",
        "  print('A parte inteira da divisão dos valores foi:', valor1 // valor2)"
      ],
      "metadata": {
        "id": "Wgvl-78iNp7y"
      },
      "execution_count": null,
      "outputs": []
    },
    {
      "cell_type": "code",
      "source": [
        "operacoes(34, 36)"
      ],
      "metadata": {
        "colab": {
          "base_uri": "https://localhost:8080/"
        },
        "id": "SYe7zEW3N9SU",
        "outputId": "8b097a56-a933-438e-f55a-0bf2a8ae56d5"
      },
      "execution_count": null,
      "outputs": [
        {
          "output_type": "stream",
          "name": "stdout",
          "text": [
            "A soma dos valores foi: 70\n",
            "A subtração dos valores foi: -2\n",
            "A divisão dos valores foi: 0.9444444444444444\n",
            "O resto da divisão dos valores foi: 34\n",
            "A parte inteira da divisão dos valores foi: 0\n"
          ]
        }
      ]
    },
    {
      "cell_type": "markdown",
      "source": [
        "> Peça um número inteiro.\n",
        "➡️ Mostre:\n",
        "\n",
        "- O número ao quadrado\n",
        "\n",
        "- O número ao cubo\n",
        "\n",
        "- A raiz quadrada (use ** 0.5)"
      ],
      "metadata": {
        "id": "RbT63QQFPR5n"
      }
    },
    {
      "cell_type": "code",
      "source": [
        "numero = int(input('Digite um número: '))\n",
        "\n",
        "quadrado = numero **2\n",
        "cubo = numero **3\n",
        "raiz = numero ** 0.5\n",
        "\n",
        "print(f'{numero}^2 =', quadrado, f'\\n{numero}^3 =', cubo, f'\\nRaiz quadrada de {numero} =', raiz)"
      ],
      "metadata": {
        "colab": {
          "base_uri": "https://localhost:8080/"
        },
        "id": "5ApEDkkbOAmt",
        "outputId": "365bfab9-bbdb-4679-97da-cfe0850c4135"
      },
      "execution_count": null,
      "outputs": [
        {
          "output_type": "stream",
          "name": "stdout",
          "text": [
            "Digite um número: 26\n",
            "26^2 = 676 \n",
            "26^3 = 17576 \n",
            "Raiz quadrada de 26 = 5.0990195135927845\n"
          ]
        }
      ]
    },
    {
      "cell_type": "markdown",
      "source": [
        "> Peça dois números e compare:\n",
        "\n",
        "- Se são iguais\n",
        "\n",
        "- Se o primeiro é maior que o segundo\n",
        "\n",
        "- Se o primeiro é menor ou igual ao segundo"
      ],
      "metadata": {
        "id": "rNUUMsIAP19j"
      }
    },
    {
      "cell_type": "code",
      "source": [
        "class Valores():\n",
        "  def __init__(self, valor1, valor2):\n",
        "    self.valor1 = valor1\n",
        "    self.valor2 = valor2\n",
        "\n",
        "  def comparar(self):\n",
        "    if self.valor1 == self.valor2:\n",
        "      print('Os valores são iguais')\n",
        "    elif self.valor1 > self.valor2:\n",
        "      print('Maior:', self.valor1)\n",
        "      print('Menor:', self.valor2)\n",
        "    else:\n",
        "      print('Maior:', self.valor2)\n",
        "      print('Menor:', self.valor1)"
      ],
      "metadata": {
        "id": "o-8Qx-1cPtjh"
      },
      "execution_count": null,
      "outputs": []
    },
    {
      "cell_type": "code",
      "source": [
        "numeros = Valores(26, 25)"
      ],
      "metadata": {
        "id": "f55c9z9pTgej"
      },
      "execution_count": null,
      "outputs": []
    },
    {
      "cell_type": "code",
      "source": [
        "numeros.comparar()"
      ],
      "metadata": {
        "colab": {
          "base_uri": "https://localhost:8080/"
        },
        "id": "bXbFQ7M1TjHa",
        "outputId": "33c2ff13-f079-4eca-ae01-8cb5d3eceaef"
      },
      "execution_count": null,
      "outputs": [
        {
          "output_type": "stream",
          "name": "stdout",
          "text": [
            "Maior: 26\n",
            "Menor: 25\n"
          ]
        }
      ]
    },
    {
      "cell_type": "markdown",
      "source": [
        "> Peça a idade e a renda mensal de uma pessoa.\n",
        "➡️ Mostre:\n",
        "\n",
        "- Se ela pode tirar carteira de motorista (idade ≥ 18).\n",
        "\n",
        "- Se ela pode financiar um carro (idade ≥ 21 e renda ≥ 2000).\n",
        "\n",
        "- Se ela pode obter cartão de crédito (idade ≥ 18 ou renda ≥ 1500)."
      ],
      "metadata": {
        "id": "KdEjzWfCKXp6"
      }
    },
    {
      "cell_type": "code",
      "source": [
        "from time import sleep\n",
        "\n",
        "class Pessoa():\n",
        "  def __init__(self, nome, idade, renda_mensal):\n",
        "    self.nome = nome\n",
        "    self.idade = idade\n",
        "    self.renda_mensal = renda_mensal\n",
        "\n",
        "  def obter_cartao_credito(self):\n",
        "    if self.idade >= 18 or self.renda_mensal >= 1500:\n",
        "      print(f'Parabéns {self.nome}, você está apto(a) a obter um cartão de crédito!\\n')\n",
        "      print('Você está sendo redirecionado(a) para a próxima etapa...')\n",
        "      sleep(2)\n",
        "      print('...\\n')\n",
        "      sleep(2)\n",
        "    else:\n",
        "      print(f'É uma pena {self.nome}, você não está apto(a) a obter um cartão de crédito.\\n')\n",
        "      print('Estamos finalizando a operação...')\n",
        "      sleep(2)\n",
        "      print('...')\n",
        "      sleep(2)\n",
        "      print('Operação finalizada com sucesso!\\n')\n",
        "\n",
        "  def financiar_carro(self):\n",
        "    if self.idade >= 21 and self.renda_mensal >= 2000:\n",
        "      print (f'Parabéns {self.nome}, você está apto(a) a obter o financiamento do carro!\\n')\n",
        "      print('Você está sendo redirecionado(a) para a próxima etapa...')\n",
        "      sleep(2)\n",
        "      print('...\\n')\n",
        "      sleep(2)\n",
        "    else:\n",
        "      print(f'É uma pena {self.nome}, você não está apto(a) para financiar o carro.\\n')\n",
        "      print('Estamos finalizando a operação...')\n",
        "      sleep(2)\n",
        "      print('...')\n",
        "      sleep(2)\n",
        "      print('Operação finalizada com sucesso!\\n')\n",
        "\n",
        "  def tirar_carteira_motorista(self):\n",
        "    if self.idade >= 18:\n",
        "      return self.mensagem_aprovado_carteira()\n",
        "    else:\n",
        "      return self.mensagem_reprovado_carteira()\n",
        "\n",
        "  def mensagem_aprovado_carteira(self):\n",
        "    print (f'Parabéns {self.nome}, você está apto(a) a obter a sua carteira de motorista!\\n')\n",
        "    print('Você está sendo redirecionado(a) para a próxima etapa...')\n",
        "    sleep(2)\n",
        "    print('...\\n')\n",
        "    sleep(2)\n",
        "\n",
        "  def mensagem_reprovado_carteira(self):\n",
        "    print(f'É uma pena {self.nome}, você não está apto(a) para tirar a carteira de motorista.\\n')\n",
        "    print('Estamos finalizando a operação...')\n",
        "    sleep(2)\n",
        "    print('...')\n",
        "    sleep(2)\n",
        "    print('Operação finalizada com sucesso!\\n')"
      ],
      "metadata": {
        "id": "aN-Py_ZbKPI5"
      },
      "execution_count": null,
      "outputs": []
    },
    {
      "cell_type": "code",
      "source": [
        "pessoa1 = Pessoa('William Coelho de Morais', 28, 1500)\n",
        "pessoa2 = Pessoa('Maria Joaquina da Silvasauro', 33, 2500)"
      ],
      "metadata": {
        "id": "GJzde8y-RtFt"
      },
      "execution_count": null,
      "outputs": []
    },
    {
      "cell_type": "code",
      "source": [
        "print('========== INFORMAÇÕES DA SOLICITAÇÃO DE CARTÃO ==========')\n",
        "pessoa1.obter_cartao_credito()\n",
        "pessoa2.obter_cartao_credito()\n",
        "print('========== INFORMAÇÕES DA SOLICITAÇÃO DE CNH ==========')\n",
        "pessoa1.tirar_carteira_motorista()\n",
        "pessoa2.tirar_carteira_motorista()\n",
        "print('========== INFORMAÇÕES DA SOLICITAÇÃO DE FINANCIAMENTO ==========')\n",
        "pessoa1.financiar_carro()\n",
        "pessoa2.financiar_carro()"
      ],
      "metadata": {
        "colab": {
          "base_uri": "https://localhost:8080/"
        },
        "id": "RpNOF3ODR1dD",
        "outputId": "14b74911-296d-43a3-c5b6-31289a96297c"
      },
      "execution_count": null,
      "outputs": [
        {
          "output_type": "stream",
          "name": "stdout",
          "text": [
            "========== INFORMAÇÕES DA SOLICITAÇÃO DE CARTÃO ==========\n",
            "Parabéns William Coelho de Morais, você está apto(a) a obter um cartão de crédito!\n",
            "\n",
            "Você está sendo redirecionado(a) para a próxima etapa...\n",
            "...\n",
            "\n",
            "Parabéns Maria Joaquina da Silvasauro, você está apto(a) a obter um cartão de crédito!\n",
            "\n",
            "Você está sendo redirecionado(a) para a próxima etapa...\n",
            "...\n",
            "\n",
            "========== INFORMAÇÕES DA SOLICITAÇÃO DE CNH ==========\n",
            "Parabéns William Coelho de Morais, você está apto(a) a obter a sua carteira de motorista!\n",
            "\n",
            "Você está sendo redirecionado(a) para a próxima etapa...\n",
            "...\n",
            "\n",
            "Parabéns Maria Joaquina da Silvasauro, você está apto(a) a obter a sua carteira de motorista!\n",
            "\n",
            "Você está sendo redirecionado(a) para a próxima etapa...\n",
            "...\n",
            "\n",
            "========== INFORMAÇÕES DA SOLICITAÇÃO DE FINANCIAMENTO ==========\n",
            "É uma pena William Coelho de Morais, você não está apto(a) para financiar o carro.\n",
            "\n",
            "Estamos finalizando a operação...\n",
            "...\n",
            "Operação finalizada com sucesso!\n",
            "\n",
            "Parabéns Maria Joaquina da Silvasauro, você está apto(a) a obter o financiamento do carro!\n",
            "\n",
            "Você está sendo redirecionado(a) para a próxima etapa...\n",
            "...\n",
            "\n"
          ]
        }
      ]
    },
    {
      "cell_type": "markdown",
      "source": [
        "> Peça a idade e o gênero do usuário.\n",
        "➡️ Mostre:\n",
        "\n",
        "- Se for homem e idade ≥ 18 → Alistamento obrigatório.\n",
        "\n",
        "- Se for mulher e idade ≥ 18 → Alistamento não obrigatório.\n",
        "\n",
        "- Caso contrário → Ainda não é a idade para alistamento."
      ],
      "metadata": {
        "id": "HtTRKBZueriF"
      }
    },
    {
      "cell_type": "code",
      "source": [
        "class User():\n",
        "  def __init__(self, nome, genero, idade):\n",
        "    self.nome = nome\n",
        "    self.genero = genero\n",
        "    self.idade = idade\n",
        "\n",
        "  def alistamento(self):\n",
        "    if self.genero == 'M' and self.idade >= 18:\n",
        "      return f'{self.nome}: Alistamento obrigatório.'\n",
        "    elif self.genero == 'F' and self.idade >= 18:\n",
        "      return f'{self.nome}: Alistamento não obrigatório.'\n",
        "    else:\n",
        "      return f'{self.nome}: Ainda não é a idade para alistamento.'"
      ],
      "metadata": {
        "id": "eeCll6p-X3KM"
      },
      "execution_count": null,
      "outputs": []
    },
    {
      "cell_type": "code",
      "source": [
        "pessoa2 = User('Joaquim Nabucodonosor', 'M', 18)\n",
        "pessoa3 = User('Josefina Joaquina', 'F', 18)\n",
        "pessoa4 = User('Mario Romario', 'M', 15)\n",
        "pessoa5 = User('Nadine Caroline', 'F', 13)\n",
        "\n",
        "print(pessoa2.alistamento())\n",
        "print(pessoa3.alistamento())\n",
        "print(pessoa4.alistamento())\n",
        "print(pessoa5.alistamento())"
      ],
      "metadata": {
        "colab": {
          "base_uri": "https://localhost:8080/"
        },
        "id": "lpf-2v5ptw5a",
        "outputId": "b564f9de-7bb9-4638-ae4c-a49f6e8ec75f"
      },
      "execution_count": null,
      "outputs": [
        {
          "output_type": "stream",
          "name": "stdout",
          "text": [
            "Joaquim Nabucodonosor: Alistamento obrigatório.\n",
            "Josefina Joaquina: Alistamento não obrigatório.\n",
            "Mario Romario: Ainda não é a idade para alistamento.\n",
            "Nadine Caroline: Ainda não é a idade para alistamento.\n"
          ]
        }
      ]
    },
    {
      "cell_type": "markdown",
      "source": [
        "> Peça o valor do salário bruto de um trabalhador.\n",
        "➡️ Calcule e mostre o valor do imposto conforme a regra:\n",
        "\n",
        "- Até 2000 → isento\n",
        "\n",
        "- De 2001 até 3500 → 8%\n",
        "\n",
        "- De 3501 até 5000 → 15%\n",
        "\n",
        "- Acima de 5000 → 25%\n",
        "\n",
        "- Mostre o imposto e o salário líquido."
      ],
      "metadata": {
        "id": "eQ95XY4kfrp9"
      }
    },
    {
      "cell_type": "code",
      "source": [
        "class Trabalhador():\n",
        "  def __init__(self, nome, salario):\n",
        "    self.nome = nome\n",
        "    self.salario = float(salario)\n",
        "\n",
        "  def imposto(self):\n",
        "    if self.salario <= 2000:\n",
        "      return f'{self.nome}: Com salário abaixo de R$2.000,00 você está isento de imposto.'\n",
        "    elif self.salario > 2000 and self.salario <= 3500:\n",
        "      return f'{self.nome}: Com salário entre R$2.001,00 e R$3.500,00 você terá 8% de imposto cobrado. Seu novo valor será de R${self.salario - (self.salario * 0.08)}.'\n",
        "    elif self.salario > 3500 and self.salario <= 5000:\n",
        "      return f'{self.nome}: Com salário entre R$3.501,00 e R$5.000,00 você terá 15% de imposto cobrado. Seu novo valor será de R${self.salario - (self.salario * 0.15)}.'\n",
        "    else:\n",
        "      return f'{self.nome}: Com salário acima de R$5.001,00 você terá 25% de imposto cobrado. Seu novo valor será de R${self.salario - (self.salario * 0.25)}.'"
      ],
      "metadata": {
        "id": "pPXwwYypfxBN"
      },
      "execution_count": null,
      "outputs": []
    },
    {
      "cell_type": "code",
      "source": [
        "t1 = Trabalhador('Manoel José', 2000)\n",
        "t2 = Trabalhador('Padre Ricardo', 2001)\n",
        "t3 = Trabalhador('José Quirino', 5000)\n",
        "t4 = Trabalhador('Ana Maria', 5001)"
      ],
      "metadata": {
        "id": "UoM01LJwB-ZF"
      },
      "execution_count": null,
      "outputs": []
    },
    {
      "cell_type": "code",
      "source": [
        "print(t1.imposto())\n",
        "print(t2.imposto())\n",
        "print(t3.imposto())\n",
        "print(t4.imposto())"
      ],
      "metadata": {
        "colab": {
          "base_uri": "https://localhost:8080/"
        },
        "id": "Gz1JZeVZCGXD",
        "outputId": "1586d92a-19f7-402c-b413-631e6d833b0a"
      },
      "execution_count": null,
      "outputs": [
        {
          "output_type": "stream",
          "name": "stdout",
          "text": [
            "Manoel José: Com salário abaixo de R$2.000,00 você está isento de imposto.\n",
            "Padre Ricardo: Com salário entre R$2.001,00 e R$3.500,00 você terá 8% de imposto cobrado. Seu novo valor será de R$1840.92.\n",
            "José Quirino: Com salário entre R$3.501,00 e R$5.000,00 você terá 15% de imposto cobrado. Seu novo valor será de R$4250.0.\n",
            "Ana Maria: Com salário acima de R$5.001,00 você terá 25% de imposto cobrado. Seu novo valor será de R$3750.75.\n"
          ]
        }
      ]
    },
    {
      "cell_type": "markdown",
      "source": [
        "> Mostre na tela todos os números de 1 a 10 usando um for."
      ],
      "metadata": {
        "id": "ScWmqwkDsN6Y"
      }
    },
    {
      "cell_type": "code",
      "source": [
        "def mostrar_numeros():\n",
        "  for i in range(1, 11):\n",
        "    print(i)"
      ],
      "metadata": {
        "id": "5cRZt4_HsRd5"
      },
      "execution_count": null,
      "outputs": []
    },
    {
      "cell_type": "code",
      "source": [
        "mostrar_numeros()"
      ],
      "metadata": {
        "colab": {
          "base_uri": "https://localhost:8080/"
        },
        "id": "WW5OjDy6w2UI",
        "outputId": "c9a0e5cc-444c-4e62-afb1-08d6181d6c15"
      },
      "execution_count": null,
      "outputs": [
        {
          "output_type": "stream",
          "name": "stdout",
          "text": [
            "1\n",
            "2\n",
            "3\n",
            "4\n",
            "5\n",
            "6\n",
            "7\n",
            "8\n",
            "9\n",
            "10\n"
          ]
        }
      ]
    },
    {
      "cell_type": "markdown",
      "source": [
        "> Peça ao usuário um número e faça a contagem regressiva até 0 usando while."
      ],
      "metadata": {
        "id": "VMIC-bG3xVlM"
      }
    },
    {
      "cell_type": "code",
      "source": [
        "def regressiva(valor):\n",
        "  while valor >= 0:\n",
        "    print(valor)\n",
        "    valor -= 1"
      ],
      "metadata": {
        "id": "IOE1GYokxOqR"
      },
      "execution_count": null,
      "outputs": []
    },
    {
      "cell_type": "code",
      "source": [
        "regressiva(20)"
      ],
      "metadata": {
        "colab": {
          "base_uri": "https://localhost:8080/"
        },
        "id": "5pT98ZPYzW2Y",
        "outputId": "b9fe10c4-d6e8-40f6-ca4b-f2af609c6c97"
      },
      "execution_count": null,
      "outputs": [
        {
          "output_type": "stream",
          "name": "stdout",
          "text": [
            "20\n",
            "19\n",
            "18\n",
            "17\n",
            "16\n",
            "15\n",
            "14\n",
            "13\n",
            "12\n",
            "11\n",
            "10\n",
            "9\n",
            "8\n",
            "7\n",
            "6\n",
            "5\n",
            "4\n",
            "3\n",
            "2\n",
            "1\n",
            "0\n"
          ]
        }
      ]
    }
  ]
}