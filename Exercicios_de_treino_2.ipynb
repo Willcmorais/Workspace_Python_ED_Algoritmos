{
  "nbformat": 4,
  "nbformat_minor": 0,
  "metadata": {
    "colab": {
      "provenance": [],
      "authorship_tag": "ABX9TyO/lSPAGo/FqHiy0gexXx22",
      "include_colab_link": true
    },
    "kernelspec": {
      "name": "python3",
      "display_name": "Python 3"
    },
    "language_info": {
      "name": "python"
    }
  },
  "cells": [
    {
      "cell_type": "markdown",
      "metadata": {
        "id": "view-in-github",
        "colab_type": "text"
      },
      "source": [
        "<a href=\"https://colab.research.google.com/github/Willcmorais/Workspace_Python_ED_Algoritmos/blob/main/Exercicios_de_treino_2.ipynb\" target=\"_parent\"><img src=\"https://colab.research.google.com/assets/colab-badge.svg\" alt=\"Open In Colab\"/></a>"
      ]
    },
    {
      "cell_type": "markdown",
      "source": [
        "> Peça 5 números ao usuário (usando for) e calcule a soma total."
      ],
      "metadata": {
        "id": "KFTjDC975A1h"
      }
    },
    {
      "cell_type": "code",
      "execution_count": null,
      "metadata": {
        "colab": {
          "base_uri": "https://localhost:8080/"
        },
        "id": "TcEnK6VM449G",
        "outputId": "22f76a56-6c1e-4110-f58c-855f84530c26"
      },
      "outputs": [
        {
          "output_type": "stream",
          "name": "stdout",
          "text": [
            "Informe um valor: 2\n",
            "Informe um valor: 4\n",
            "Informe um valor: 6\n",
            "Informe um valor: 8\n",
            "Informe um valor: 10\n",
            "Lista: [2, 4, 6, 8, 10]\n",
            "Soma dos valores: 30\n"
          ]
        }
      ],
      "source": [
        "lista = []\n",
        "soma = 0\n",
        "\n",
        "for i in range(5):\n",
        "  valor = int(input('Informe um valor: '))\n",
        "  soma = soma + valor\n",
        "\n",
        "  lista.append(valor)\n",
        "  i += 1\n",
        "\n",
        "print('Lista:',lista)\n",
        "print('Soma dos valores:',soma)"
      ]
    },
    {
      "cell_type": "markdown",
      "source": [
        "> Peça um número e mostre sua tabuada de 1 a 10 usando for."
      ],
      "metadata": {
        "id": "vYIskJDh85Fc"
      }
    },
    {
      "cell_type": "code",
      "source": [
        "numero = int(input('Informe de qual número quer a tabuada: '))\n",
        "\n",
        "for i in range(1, 11):\n",
        "  print (f'{i:2} x {numero} = {i * numero:2}')"
      ],
      "metadata": {
        "colab": {
          "base_uri": "https://localhost:8080/"
        },
        "id": "ZjvYpIIk6J5n",
        "outputId": "3e31a02a-d8d5-4a7d-ca0f-f7895e6659b4"
      },
      "execution_count": null,
      "outputs": [
        {
          "output_type": "stream",
          "name": "stdout",
          "text": [
            "Informe de qual número quer a tabuada: 36\n",
            " 1 x 36 = 36\n",
            " 2 x 36 = 72\n",
            " 3 x 36 = 108\n",
            " 4 x 36 = 144\n",
            " 5 x 36 = 180\n",
            " 6 x 36 = 216\n",
            " 7 x 36 = 252\n",
            " 8 x 36 = 288\n",
            " 9 x 36 = 324\n",
            "10 x 36 = 360\n"
          ]
        }
      ]
    },
    {
      "cell_type": "markdown",
      "source": [
        "> Crie um programa que peça números ao usuário até que ele digite 0.\n",
        "➡️ No final, mostre:\n",
        "\n",
        "- A quantidade de números digitados (sem contar o 0)\n",
        "\n",
        "- A soma deles\n",
        "\n",
        "- A média"
      ],
      "metadata": {
        "id": "z7uvVp2d-rWX"
      }
    },
    {
      "cell_type": "code",
      "source": [
        "lista = []\n",
        "soma = 0\n",
        "out = False\n",
        "\n",
        "while out == False:\n",
        "  valor = int(input('Informe um número ou digite \"0\" para sair: '))\n",
        "  if valor == 0:\n",
        "    out = True\n",
        "    print('---')\n",
        "    print('Lista:', lista)\n",
        "    print(f'Tamanho da lista: {len(lista)}')\n",
        "    print(f'Soma dos valores da lista: {soma}')\n",
        "    print(f'Média dos valores da lista: {media}')\n",
        "  else:\n",
        "    soma = soma + valor\n",
        "    media = soma/2\n",
        "    lista.append(valor)"
      ],
      "metadata": {
        "colab": {
          "base_uri": "https://localhost:8080/"
        },
        "id": "fSpIr2Bh99tp",
        "outputId": "4bc66385-b374-4bcb-c709-e947e8213529"
      },
      "execution_count": null,
      "outputs": [
        {
          "output_type": "stream",
          "name": "stdout",
          "text": [
            "Informe um número ou digite \"0\" para sair: 85\n",
            "Informe um número ou digite \"0\" para sair: 99\n",
            "Informe um número ou digite \"0\" para sair: 987\n",
            "Informe um número ou digite \"0\" para sair: 54\n",
            "Informe um número ou digite \"0\" para sair: 22\n",
            "Informe um número ou digite \"0\" para sair: 54\n",
            "Informe um número ou digite \"0\" para sair: 11\n",
            "Informe um número ou digite \"0\" para sair: 22\n",
            "Informe um número ou digite \"0\" para sair: 20\n",
            "Informe um número ou digite \"0\" para sair: 13\n",
            "Informe um número ou digite \"0\" para sair: 88\n",
            "Informe um número ou digite \"0\" para sair: 66\n",
            "Informe um número ou digite \"0\" para sair: 325\n",
            "Informe um número ou digite \"0\" para sair: 0\n",
            "---\n",
            "Lista: [85, 99, 987, 54, 22, 54, 11, 22, 20, 13, 88, 66, 325]\n",
            "Tamanho da lista: 13\n",
            "Soma dos valores da lista: 1846\n",
            "Média dos valores da lista: 923.0\n"
          ]
        }
      ]
    },
    {
      "cell_type": "markdown",
      "source": [
        "> Crie uma tupla com 5 nomes de frutas.\n",
        "➡️ Mostre:\n",
        "\n",
        "- A primeira fruta\n",
        "\n",
        "- A última fruta\n",
        "\n",
        "- O tamanho da tupla"
      ],
      "metadata": {
        "id": "9D2mb7LiD337"
      }
    },
    {
      "cell_type": "code",
      "source": [
        "frutas = ('Maçã', 'Banana', 'Laranja', 'Melão', 'Melancia')"
      ],
      "metadata": {
        "id": "SFkEM_FpCyfK"
      },
      "execution_count": null,
      "outputs": []
    },
    {
      "cell_type": "code",
      "source": [
        "print('Primeira fruta:',frutas[0])\n",
        "print('Última fruta:',frutas[4])\n",
        "print('Tamanho da tupla:',len(frutas))"
      ],
      "metadata": {
        "colab": {
          "base_uri": "https://localhost:8080/"
        },
        "id": "aOgoQ_AAEliH",
        "outputId": "7b50a1bc-ab30-4c83-d0ba-d070c0d42688"
      },
      "execution_count": null,
      "outputs": [
        {
          "output_type": "stream",
          "name": "stdout",
          "text": [
            "Primeira fruta: Maçã\n",
            "Última fruta: Melancia\n",
            "Tamanho da tupla: 5\n"
          ]
        }
      ]
    },
    {
      "cell_type": "markdown",
      "source": [
        "> Crie uma lista com os números [10, 20, 30, 40, 50].\n",
        "➡️ Faça:"
      ],
      "metadata": {
        "id": "HE70-c6cFW4t"
      }
    },
    {
      "cell_type": "code",
      "source": [
        "lista = [10, 20, 30, 40, 50]"
      ],
      "metadata": {
        "id": "C6MWp977FwYg"
      },
      "execution_count": null,
      "outputs": []
    },
    {
      "cell_type": "markdown",
      "source": [
        "- Substitua o número da posição 2 por 99"
      ],
      "metadata": {
        "id": "zlwRa_1lGaTn"
      }
    },
    {
      "cell_type": "code",
      "source": [
        "lista[2] = 99\n",
        "print(lista)"
      ],
      "metadata": {
        "colab": {
          "base_uri": "https://localhost:8080/"
        },
        "id": "Q3GXgfDxFyZn",
        "outputId": "0130c3ff-8618-4498-ade0-46aa6c6372fb"
      },
      "execution_count": null,
      "outputs": [
        {
          "output_type": "stream",
          "name": "stdout",
          "text": [
            "[10, 20, 99, 40, 50]\n"
          ]
        }
      ]
    },
    {
      "cell_type": "markdown",
      "source": [
        "- Adicione o número 100 ao final da lista"
      ],
      "metadata": {
        "id": "8rbC_foNGd-O"
      }
    },
    {
      "cell_type": "code",
      "source": [
        "lista.append(100)\n",
        "print(lista)"
      ],
      "metadata": {
        "colab": {
          "base_uri": "https://localhost:8080/"
        },
        "id": "shjPdqCGOP8j",
        "outputId": "e959080b-116b-4051-f29a-069f8a63ddef"
      },
      "execution_count": null,
      "outputs": [
        {
          "output_type": "stream",
          "name": "stdout",
          "text": [
            "[10, 20, 99, 40, 50, 100]\n"
          ]
        }
      ]
    },
    {
      "cell_type": "markdown",
      "source": [
        "- Remova o primeiro elemento\n",
        "\n",
        "- Mostre a lista final"
      ],
      "metadata": {
        "id": "4ti7oOwuGhMG"
      }
    },
    {
      "cell_type": "code",
      "source": [
        "del(lista[0])\n",
        "print(lista)"
      ],
      "metadata": {
        "colab": {
          "base_uri": "https://localhost:8080/"
        },
        "id": "UqSle4ZGORRK",
        "outputId": "e4ea6ee6-8856-45d4-8227-69e092eb8a91"
      },
      "execution_count": null,
      "outputs": [
        {
          "output_type": "stream",
          "name": "stdout",
          "text": [
            "[20, 99, 40, 50, 100]\n"
          ]
        }
      ]
    },
    {
      "cell_type": "markdown",
      "source": [
        "> Peça ao usuário 7 números.\n",
        "➡️ Mostre:\n",
        "\n",
        "- A lista em ordem crescente\n",
        "\n",
        "- A lista em ordem decrescente\n",
        "\n",
        "- A média dos números"
      ],
      "metadata": {
        "id": "r26xcqESO3n3"
      }
    },
    {
      "cell_type": "code",
      "source": [
        "lista = []\n",
        "\n",
        "for i in range(7):\n",
        "  valor = int(input('Informe um valor: '))\n",
        "  lista.append(valor)\n",
        "\n",
        "lista_crescente = sorted(lista)\n",
        "print('Lista em ordem crescente:', lista_crescente)\n",
        "\n",
        "lista_decrescente = sorted(lista, reverse=True)\n",
        "print('Lista em ordem decrescente:', lista_decrescente)\n",
        "\n",
        "soma = sum(lista)\n",
        "media = soma / len(lista)\n",
        "print('Média dos números:', round(media, 1))"
      ],
      "metadata": {
        "colab": {
          "base_uri": "https://localhost:8080/"
        },
        "id": "5G3RLaoqO6ZX",
        "outputId": "57471762-e470-4663-9bee-89d60fa0ff84"
      },
      "execution_count": null,
      "outputs": [
        {
          "output_type": "stream",
          "name": "stdout",
          "text": [
            "Informe um valor: 74\n",
            "Informe um valor: 85\n",
            "Informe um valor: 96\n",
            "Informe um valor: 36\n",
            "Informe um valor: 25\n",
            "Informe um valor: 14\n",
            "Informe um valor: 1\n",
            "Lista em ordem crescente: [1, 14, 25, 36, 74, 85, 96]\n",
            "Lista em ordem decrescente: [96, 85, 74, 36, 25, 14, 1]\n",
            "Média dos números: 47.3\n"
          ]
        }
      ]
    },
    {
      "cell_type": "markdown",
      "source": [
        "> Peça ao usuário para montar uma matriz 3x3 (3 listas dentro de uma lista).\n",
        "➡️ No final, mostre:\n",
        "\n",
        "- A matriz formatada\n",
        "\n",
        "- A soma dos valores da diagonal principal"
      ],
      "metadata": {
        "id": "djyESzaj-Juo"
      }
    },
    {
      "cell_type": "code",
      "source": [
        "matriz = []\n",
        "\n",
        "try:\n",
        "  for i in range(3):\n",
        "    linha = []\n",
        "    for j in range(3):\n",
        "      valor = int(input(f'Informe o valor para a posição ({i}, {j}): '))\n",
        "      linha.append(valor)\n",
        "    matriz.append(linha)\n",
        "\n",
        "  # Exibir a matriz formatada\n",
        "  print(\"Matriz:\")\n",
        "  for linha in matriz:\n",
        "    for elemento in linha:\n",
        "       print(f\"{elemento:^5}\", end=' ') # Format for better display\n",
        "    print()\n",
        "\n",
        "  soma_diagonal = 0\n",
        "\n",
        "  for i in range(3):\n",
        "    soma_diagonal += matriz[i][i]\n",
        "\n",
        "  print('Soma dos valores da diagonal principal:', soma_diagonal)\n",
        "\n",
        "except KeyboardInterrupt:\n",
        "  print('Operação Finalizada pelo Usuário.')"
      ],
      "metadata": {
        "id": "UpmJRWgJRJf1",
        "colab": {
          "base_uri": "https://localhost:8080/"
        },
        "outputId": "017b94d6-b644-4fd4-92e2-131cd751126d"
      },
      "execution_count": null,
      "outputs": [
        {
          "output_type": "stream",
          "name": "stdout",
          "text": [
            "Informe o valor para a posição (0, 0): 21\n",
            "Informe o valor para a posição (0, 1): 22\n",
            "Informe o valor para a posição (0, 2): 23\n",
            "Informe o valor para a posição (1, 0): 24\n",
            "Informe o valor para a posição (1, 1): 25\n",
            "Informe o valor para a posição (1, 2): 26\n",
            "Informe o valor para a posição (2, 0): 27\n",
            "Informe o valor para a posição (2, 1): 28\n",
            "Informe o valor para a posição (2, 2): 29\n",
            "Matriz:\n",
            " 21    22    23   \n",
            " 24    25    26   \n",
            " 27    28    29   \n",
            "Soma dos valores da diagonal principal: 75\n"
          ]
        }
      ]
    },
    {
      "cell_type": "markdown",
      "metadata": {
        "id": "234ce315"
      },
      "source": [
        "### Criando a matriz e calculando a soma da diagonal principal com NumPy\n",
        "\n",
        "Esta abordagem utiliza o NumPy para criar a matriz e calcular a soma da diagonal principal de forma mais concisa e eficiente."
      ]
    },
    {
      "cell_type": "code",
      "metadata": {
        "id": "907ab1ed",
        "colab": {
          "base_uri": "https://localhost:8080/"
        },
        "outputId": "bcf335d2-c65f-4c3e-d8c3-4eec782a3a67"
      },
      "source": [
        "import numpy as np\n",
        "\n",
        "try:\n",
        "  # Criando uma matriz 3x3 com zeros\n",
        "  matriz_np = np.zeros((3, 3), dtype=int)\n",
        "\n",
        "  # Preenchendo a matriz com valores informados pelo usuário\n",
        "  for i in range(3):\n",
        "    for j in range(3):\n",
        "      valor = int(input(f'Informe o valor para a posição ({i}, {j}): '))\n",
        "      matriz_np[i, j] = valor\n",
        "\n",
        "  # Exibir a matriz formatada (opcional, para visualização)\n",
        "  print(\"\\nMatriz (NumPy):\")\n",
        "  print(matriz_np)\n",
        "\n",
        "  # Calculando a soma da diagonal principal usando a função diag() do NumPy\n",
        "  soma_diagonal_np = np.diag(matriz_np).sum()\n",
        "\n",
        "  print('\\nSoma dos valores da diagonal principal (NumPy):', soma_diagonal_np)\n",
        "\n",
        "except KeyboardInterrupt:\n",
        "  print('Operação Finalizada pelo Usuário.')\n",
        "except ValueError:\n",
        "  print(\"Entrada inválida. Por favor, digite apenas números inteiros.\")"
      ],
      "execution_count": null,
      "outputs": [
        {
          "output_type": "stream",
          "name": "stdout",
          "text": [
            "Informe o valor para a posição (0, 0): 33\n",
            "Informe o valor para a posição (0, 1): 0\n",
            "Informe o valor para a posição (0, 2): 21\n",
            "Informe o valor para a posição (1, 0): j\n",
            "Entrada inválida. Por favor, digite apenas números inteiros.\n"
          ]
        }
      ]
    },
    {
      "cell_type": "markdown",
      "metadata": {
        "id": "a1bb2ab1"
      },
      "source": [
        "**Explicação:**\n",
        "\n",
        "1.  **`import numpy as np`**: Importa a biblioteca NumPy.\n",
        "2.  **`matriz_np = np.zeros((3, 3), dtype=int)`**: Cria uma matriz 3x3 preenchida com zeros, especificando o tipo de dado como inteiro.\n",
        "3.  Os loops aninhados são usados para preencher a matriz com os valores informados pelo usuário, da mesma forma que na abordagem original. Embora ainda haja loops para a entrada do usuário, as operações internas do NumPy serão mais rápidas.\n",
        "4.  **`np.diag(matriz_np)`**: Esta função do NumPy extrai os elementos da diagonal principal da matriz, retornando um array NumPy.\n",
        "5.  **`.sum()`**: Soma os elementos do array resultante da diagonal principal. Esta operação de soma é altamente otimizada no NumPy.\n",
        "\n",
        "Esta abordagem com NumPy é mais \"pythonica\" e aproveita as otimizações da biblioteca para operações matriciais."
      ]
    },
    {
      "cell_type": "markdown",
      "source": [
        "> Crie um dicionário com as seguintes informações de uma pessoa:\n",
        "\n",
        "- Nome\n",
        "\n",
        "- Idade\n",
        "\n",
        "- Cidade\n",
        "\n",
        "➡️ Mostre os valores de cada chave em frases completas."
      ],
      "metadata": {
        "id": "ONiuynq1X-j5"
      }
    },
    {
      "cell_type": "code",
      "source": [
        "dicionario = {}\n",
        "\n",
        "nome = input('Digite o nome: ')\n",
        "idade = int(input('Digite sua idade: '))\n",
        "cidade = input('Informe sua cidade: ')\n",
        "print('---')\n",
        "\n",
        "dicionario[nome, cidade] = idade\n",
        "\n",
        "for nome, cidade in dicionario.items():\n",
        "  print(f'User: {nome}\\nIdade: {idade}\\nCidade: {cidade}.')"
      ],
      "metadata": {
        "colab": {
          "base_uri": "https://localhost:8080/"
        },
        "id": "48tb5z33X-UJ",
        "outputId": "af59aa5e-abcb-43f7-ecb2-663958cc47e3"
      },
      "execution_count": null,
      "outputs": [
        {
          "output_type": "stream",
          "name": "stdout",
          "text": [
            "Digite o nome: Maria\n",
            "Digite sua idade: 46\n",
            "Informe sua cidade: Natal\n",
            "---\n",
            "User: ('Maria', 'Natal')\n",
            "Idade: 46\n",
            "Cidade: 46.\n"
          ]
        }
      ]
    },
    {
      "cell_type": "markdown",
      "source": [
        "> Crie manualmente uma matriz 2x2 (lista de listas).\n",
        "➡️ Mostre a matriz formatada em duas linhas."
      ],
      "metadata": {
        "id": "EArLiqgGKx45"
      }
    },
    {
      "cell_type": "code",
      "source": [
        "import numpy as np\n",
        "\n",
        "matriz = np.empty((2, 2), dtype=int)\n",
        "\n",
        "for i in range(2):\n",
        "  for j in range(2):\n",
        "    valor = int(input('Digite um valor para adicionar a matriz: '))\n",
        "    matriz[i, j] = valor\n",
        "\n",
        "print('---')\n",
        "print('Matriz:\\n', matriz)"
      ],
      "metadata": {
        "id": "PNemnbHQZkvM",
        "colab": {
          "base_uri": "https://localhost:8080/"
        },
        "outputId": "29cf5b65-2a26-4c07-e62d-e64fa1965384"
      },
      "execution_count": null,
      "outputs": [
        {
          "output_type": "stream",
          "name": "stdout",
          "text": [
            "Digite um valor para adicionar a matriz: 12\n",
            "Digite um valor para adicionar a matriz: 45\n",
            "Digite um valor para adicionar a matriz: 85\n",
            "Digite um valor para adicionar a matriz: 36\n",
            "---\n",
            "Matriz:\n",
            " [[12 45]\n",
            " [85 36]]\n"
          ]
        }
      ]
    },
    {
      "cell_type": "markdown",
      "source": [
        "> Peça ao usuário para preencher uma matriz 3x3 com números inteiros.\n",
        "➡️ Depois, mostre a matriz formatada."
      ],
      "metadata": {
        "id": "wn_SrPSyNOMY"
      }
    },
    {
      "cell_type": "code",
      "source": [
        "import numpy as np\n",
        "\n",
        "matriz = []\n",
        "\n",
        "for i in range(3):\n",
        "  linha = []\n",
        "  for j in range(3):\n",
        "    valor = int(input('Digite um valor inteiro: '))\n",
        "    linha.append(valor)\n",
        "  matriz.append(linha)\n",
        "\n",
        "print('---')\n",
        "print('Matriz:\\n')\n",
        "for linha in matriz:\n",
        "  for elemento in linha:\n",
        "    print(f\"{elemento:^5}\", end=' ') # Format for better display\n",
        "  print()\n",
        "\n",
        "print('---')\n",
        "print('Matriz (2,2):', matriz[2][2])"
      ],
      "metadata": {
        "colab": {
          "base_uri": "https://localhost:8080/"
        },
        "id": "3qruNEe5LPjP",
        "outputId": "ad317772-0aaa-434d-98f4-5b233fff79a0"
      },
      "execution_count": null,
      "outputs": [
        {
          "output_type": "stream",
          "name": "stdout",
          "text": [
            "Digite um valor inteiro: 9\n",
            "Digite um valor inteiro: 6\n",
            "Digite um valor inteiro: 3\n",
            "Digite um valor inteiro: 2\n",
            "Digite um valor inteiro: 5\n",
            "Digite um valor inteiro: 8\n",
            "Digite um valor inteiro: 7\n",
            "Digite um valor inteiro: 1\n",
            "Digite um valor inteiro: 4\n",
            "---\n",
            "Matriz:\n",
            "\n",
            "  9     6     3   \n",
            "  2     5     8   \n",
            "  7     1     4   \n",
            "---\n",
            "Matriz (2,2): 4\n"
          ]
        }
      ]
    },
    {
      "cell_type": "markdown",
      "source": [
        "> fatorial(n) → calcula o fatorial de um número.\n",
        "\n",
        "> eh_primo(n) → verifica se um número é primo.\n",
        "\n",
        "➡️ No programa principal:\n",
        "\n",
        "- Peça um número ao usuário\n",
        "\n",
        "- Mostre o fatorial\n",
        "\n",
        "- Verifique se ele é primo\n"
      ],
      "metadata": {
        "id": "f_kFt48Pi362"
      }
    },
    {
      "cell_type": "code",
      "source": [
        "import math\n",
        "\n",
        "def eh_primo():\n",
        "  numero = int(input('Digite um número: '))\n",
        "\n",
        "  if numero < 2:\n",
        "    return 'O valor informado precisa ser maior do que o primeiro número primo, o dois.'\n",
        "  # Itera de 2 até a raiz quadrada do número, verificando se há divisores\n",
        "  elif numero >= 2:\n",
        "    for i in range(2, int(numero**0.5) + 1):\n",
        "      if numero % i == 0:  # Se houver um divisor, não é primo\n",
        "        return f'O número {numero} não é primo.'\n",
        "      else:\n",
        "        return f'O número {numero } é primo.'"
      ],
      "metadata": {
        "id": "p7UF8haZN7Ev"
      },
      "execution_count": null,
      "outputs": []
    },
    {
      "cell_type": "code",
      "source": [
        "eh_primo()"
      ],
      "metadata": {
        "colab": {
          "base_uri": "https://localhost:8080/",
          "height": 53
        },
        "id": "sfiGfuUVlGbz",
        "outputId": "b9070323-0591-4edd-988b-cd44f5ae8afe"
      },
      "execution_count": null,
      "outputs": [
        {
          "name": "stdout",
          "output_type": "stream",
          "text": [
            "Digite um número: 33\n"
          ]
        },
        {
          "output_type": "execute_result",
          "data": {
            "text/plain": [
              "'O número 33 é primo.'"
            ],
            "application/vnd.google.colaboratory.intrinsic+json": {
              "type": "string"
            }
          },
          "metadata": {},
          "execution_count": 62
        }
      ]
    },
    {
      "cell_type": "markdown",
      "source": [
        "> Peça ao usuário um número decimal.\n",
        "➡️ Mostre:\n",
        "\n",
        "- O número arredondado para cima (math.ceil)\n",
        "\n",
        "- O número arredondado para baixo (math.floor)\n",
        "\n",
        "- A raiz quadrada (math.sqrt)"
      ],
      "metadata": {
        "id": "TBY7YdO0f_KY"
      }
    },
    {
      "cell_type": "code",
      "source": [
        "import math\n",
        "\n",
        "numero = float(input('Digite um valor decimal: '))\n",
        "print('---')\n",
        "print('Número arredondado para cima:', math.ceil(numero))\n",
        "print('Número arredondado para baixo:', math.floor(numero))\n",
        "print('Raiz quadrada do número:', math.sqrt(numero))"
      ],
      "metadata": {
        "colab": {
          "base_uri": "https://localhost:8080/"
        },
        "id": "rAlnNpV7lIrj",
        "outputId": "a85318b8-4853-4d3c-b650-9746dbd6a210"
      },
      "execution_count": null,
      "outputs": [
        {
          "output_type": "stream",
          "name": "stdout",
          "text": [
            "Digite um valor decimal: 33.58\n",
            "---\n",
            "Número arredondado para cima: 34\n",
            "Número arredondado para baixo: 33\n",
            "Raiz quadrada do número: 5.794825277780168\n"
          ]
        }
      ]
    },
    {
      "cell_type": "markdown",
      "source": [
        "> Mostre a data e hora atual do sistema.\n",
        "➡️ Depois, formate e exiba no padrão:\n",
        "\n",
        "- DD/MM/AAAA - HH:MM"
      ],
      "metadata": {
        "id": "w9zkTuCBiJ2w"
      }
    },
    {
      "cell_type": "code",
      "source": [
        "import datetime as dt\n",
        "\n",
        "print(dt.datetime.today())"
      ],
      "metadata": {
        "colab": {
          "base_uri": "https://localhost:8080/"
        },
        "id": "K-vw8jJ9h-cG",
        "outputId": "9f6bb866-d452-4fd5-b2cc-dbb6a38a1ef0"
      },
      "execution_count": null,
      "outputs": [
        {
          "output_type": "stream",
          "name": "stdout",
          "text": [
            "2025-09-08 13:39:09.955372\n"
          ]
        }
      ]
    },
    {
      "cell_type": "markdown",
      "source": [
        "> Simule um sorteio:\n",
        "\n",
        "- Crie uma lista com 5 nomes\n",
        "\n",
        "- Use random.choice para escolher um vencedor\n",
        "\n",
        "➡️ Mostre: O vencedor foi: X"
      ],
      "metadata": {
        "id": "7bem7Ho8jofJ"
      }
    },
    {
      "cell_type": "code",
      "source": [
        "import random\n",
        "\n",
        "lista = ['Maria', 'João', 'Pedro', 'Victoria', 'William']\n",
        "\n",
        "print('O vencedor foi:', random.choice(lista))"
      ],
      "metadata": {
        "colab": {
          "base_uri": "https://localhost:8080/"
        },
        "id": "8pK4UXEiiecO",
        "outputId": "c5d0d314-969a-472d-c5f4-de5e13cc5979"
      },
      "execution_count": null,
      "outputs": [
        {
          "output_type": "stream",
          "name": "stdout",
          "text": [
            "O vencedor foi: Pedro\n"
          ]
        }
      ]
    },
    {
      "cell_type": "markdown",
      "source": [
        "> Crie um arquivo de txt e grave nele o que for digitado pelo usuário.\n",
        "\n",
        "- Para adicionar conteúdo ao arquivo sem apagar o que já existe, você precisa mudar o modo de abertura do arquivo de 'w' (write) para 'a' (append)."
      ],
      "metadata": {
        "id": "evZM1TykmsRK"
      }
    },
    {
      "cell_type": "code",
      "source": [
        "with open('/content/TestePython.txt', 'w') as text:\n",
        "  text.write('Esta é a primeira frase escrita neste arquivo de texto, em linguagem de programação Python. ')\n",
        "\n",
        "with open('/content/TestePython.txt', 'a') as text:\n",
        "  text.write('Esta é a segunda frase escrita neste arquivo de texto, em linguagem de programação Python.')"
      ],
      "metadata": {
        "id": "wvQx_eQlwOH_"
      },
      "execution_count": null,
      "outputs": []
    },
    {
      "cell_type": "code",
      "source": [
        "with open('/content/TestePython.txt', 'r') as text:\n",
        "  for linha in text:\n",
        "    print('Quantidades de caracteres por frase:', len(linha))\n",
        "    print (linha)"
      ],
      "metadata": {
        "colab": {
          "base_uri": "https://localhost:8080/"
        },
        "id": "h5YFe2ehpIne",
        "outputId": "acbef996-a1ac-4a8d-e8ae-68b9f498135a"
      },
      "execution_count": null,
      "outputs": [
        {
          "output_type": "stream",
          "name": "stdout",
          "text": [
            "Quantidades de caracteres por frase: 92\n",
            "Esta é a primeira frase escrita neste arquivo de texto, em linguagem de programação Python.\n",
            "\n",
            "Quantidades de caracteres por frase: 90\n",
            "Esta é a segunda frase escrita neste arquivo de texto, em linguagem de programação Python.\n"
          ]
        }
      ]
    },
    {
      "cell_type": "markdown",
      "source": [
        "> Exercício 1 – Buscar padrão simples\n",
        "\n",
        "- Verifique se a string \"Python é incrível\" contém a palavra \"Python\" usando regex.\n"
      ],
      "metadata": {
        "id": "iUBbslUextxc"
      }
    },
    {
      "cell_type": "code",
      "source": [
        "import re"
      ],
      "metadata": {
        "id": "GterI3UYuv7_"
      },
      "execution_count": null,
      "outputs": []
    },
    {
      "cell_type": "code",
      "source": [
        "palavra = 'Python é incrível'\n",
        "\n",
        "print(re.findall(r'Python', palavra))\n",
        "print(re.search(r'Python', palavra))"
      ],
      "metadata": {
        "colab": {
          "base_uri": "https://localhost:8080/"
        },
        "id": "HPIU6CFa0cO2",
        "outputId": "ee5d264f-4c60-4641-f518-9ea3f14790f0"
      },
      "execution_count": null,
      "outputs": [
        {
          "output_type": "stream",
          "name": "stdout",
          "text": [
            "['Python']\n",
            "<re.Match object; span=(0, 6), match='Python'>\n"
          ]
        }
      ]
    },
    {
      "cell_type": "markdown",
      "source": [
        "- Use regex para verificar se uma string contém apenas números."
      ],
      "metadata": {
        "id": "ZPrw2Te717eB"
      }
    },
    {
      "cell_type": "code",
      "source": [
        "palavra1 = 'asdasdasdas1231231asfd123123'\n",
        "palavra2 = '11232141235123'\n",
        "\n",
        "print(re.findall(r'\\d+', palavra1))\n",
        "print(re.findall(r'\\d+', palavra2))"
      ],
      "metadata": {
        "colab": {
          "base_uri": "https://localhost:8080/"
        },
        "id": "gPdvx5Ri1iTV",
        "outputId": "b2167fc6-83bd-4892-f851-24f9ed5632be"
      },
      "execution_count": null,
      "outputs": [
        {
          "output_type": "stream",
          "name": "stdout",
          "text": [
            "['1231231', '123123']\n",
            "['11232141235123']\n"
          ]
        }
      ]
    },
    {
      "cell_type": "markdown",
      "source": [
        "> Crie uma regex que valide placas de carro brasileiras (padrão antigo: ABC-1234)."
      ],
      "metadata": {
        "id": "PBgRRXF33JvJ"
      }
    },
    {
      "cell_type": "code",
      "source": [
        "placa = 'ZPS-1234'\n",
        "placa1 = 'ZPS1-234'\n",
        "placa2 = 'ASSS-345'\n",
        "placa3 = 'APS-5748'\n",
        "\n",
        "print(re.findall(r'[A-Z]{3}-\\d{4}', placa))\n",
        "print(re.match(r'[A-Z]{3}-\\d{4}', placa))\n",
        "print(re.match(r'[A-Z]{3}-\\d{4}', placa1))\n",
        "print(re.match(r'[A-Z]{3}-\\d{4}', placa2))"
      ],
      "metadata": {
        "colab": {
          "base_uri": "https://localhost:8080/"
        },
        "id": "3ysBCZTr2DUY",
        "outputId": "b5b47686-b0bc-468a-d2f8-0e5511abc544"
      },
      "execution_count": null,
      "outputs": [
        {
          "output_type": "stream",
          "name": "stdout",
          "text": [
            "['ZPS-1234']\n",
            "<re.Match object; span=(0, 8), match='ZPS-1234'>\n",
            "None\n",
            "None\n"
          ]
        }
      ]
    },
    {
      "cell_type": "markdown",
      "source": [
        "> Dada a string \"Meu telefone é 99999-8888\", use regex para substituir os números por \"XXXXX-XXXX\"."
      ],
      "metadata": {
        "id": "gE1kqbLt4jyL"
      }
    },
    {
      "cell_type": "code",
      "source": [
        "telefone = 'Meu telefone é 99999-8888'\n",
        "\n",
        "telefone_modificado = re.sub(r'\\d{5}-\\d{4}', 'XXXXX-XXXX', telefone)\n",
        "\n",
        "print(telefone_modificado)"
      ],
      "metadata": {
        "colab": {
          "base_uri": "https://localhost:8080/"
        },
        "id": "6cMaS0-a3xNU",
        "outputId": "7589f629-ede3-4685-83e9-d4f41742f754"
      },
      "execution_count": null,
      "outputs": [
        {
          "output_type": "stream",
          "name": "stdout",
          "text": [
            "Meu telefone é XXXXX-XXXX\n"
          ]
        }
      ]
    },
    {
      "cell_type": "markdown",
      "source": [
        "> Crie uma classe Pessoa com atributos nome e idade.\n",
        "➡️ Instancie um objeto e mostre seus dados.\n",
        "\n",
        "- crie um método falar() que imprime \"Olá, meu nome é X\".\n",
        "\n",
        "- Modifique a classe Pessoa para receber nome e idade no construtor (__init__).\n",
        "\n",
        "- Crie uma classe Aluno que herde de Pessoa e adicione o atributo curso.\n",
        "➡️ Instancie e mostre os dados do aluno."
      ],
      "metadata": {
        "id": "b_Fgj3-16uai"
      }
    },
    {
      "cell_type": "code",
      "source": [
        "class Pessoa():\n",
        "  def __init__(self, nome, idade):\n",
        "    self.nome = nome\n",
        "    self.idade = idade\n",
        "\n",
        "  def falar(self):\n",
        "    return f'Olá, meu nome é {self.nome}!'"
      ],
      "metadata": {
        "id": "YtdQRiBi4wES"
      },
      "execution_count": null,
      "outputs": []
    },
    {
      "cell_type": "code",
      "source": [
        "pessoa1 = Pessoa('Willliam', 28)"
      ],
      "metadata": {
        "id": "UoySI4G57S08"
      },
      "execution_count": null,
      "outputs": []
    },
    {
      "cell_type": "code",
      "source": [
        "pessoa1.falar()"
      ],
      "metadata": {
        "colab": {
          "base_uri": "https://localhost:8080/",
          "height": 36
        },
        "id": "-Req30zv7X08",
        "outputId": "51a04770-d4f1-42fa-d8a1-169e5a94596b"
      },
      "execution_count": null,
      "outputs": [
        {
          "output_type": "execute_result",
          "data": {
            "text/plain": [
              "'Olá, meu nome é Willliam!'"
            ],
            "application/vnd.google.colaboratory.intrinsic+json": {
              "type": "string"
            }
          },
          "metadata": {},
          "execution_count": 81
        }
      ]
    },
    {
      "cell_type": "code",
      "source": [
        "class Aluno(Pessoa):\n",
        "  def __init__(self, nome, idade, curso):\n",
        "    super().__init__(nome, idade)\n",
        "    self.curso = curso\n",
        "\n",
        "  def mostrar_dados(self):\n",
        "    print(f'Nome: {self.nome}\\nIdade: {self.idade}\\nCurso: {self.curso}')"
      ],
      "metadata": {
        "id": "ifbnTHsT7Zot"
      },
      "execution_count": null,
      "outputs": []
    },
    {
      "cell_type": "code",
      "source": [
        "aluno1 = Aluno('William Coelho', 22, 'Ciências da Computação')"
      ],
      "metadata": {
        "id": "WBcliHaY79kg"
      },
      "execution_count": null,
      "outputs": []
    },
    {
      "cell_type": "code",
      "source": [
        "aluno1.mostrar_dados()"
      ],
      "metadata": {
        "colab": {
          "base_uri": "https://localhost:8080/"
        },
        "id": "zycN2HU4_iIR",
        "outputId": "0f90f42e-da23-4f22-d5b5-fd75305960fe"
      },
      "execution_count": null,
      "outputs": [
        {
          "output_type": "stream",
          "name": "stdout",
          "text": [
            "Nome: William Coelho\n",
            "Idade: 22\n",
            "Curso: Ciências da Computação\n"
          ]
        }
      ]
    },
    {
      "cell_type": "markdown",
      "source": [
        "> Crie uma classe ContaBancaria com:\n",
        "\n",
        "- Atributo privado saldo\n",
        "\n",
        "- Método depositar(valor)\n",
        "\n",
        "- Método sacar(valor) (só se tiver saldo suficiente)\n",
        "\n",
        "- Método mostrar_saldo()"
      ],
      "metadata": {
        "id": "pJeEdA6sA0hr"
      }
    },
    {
      "cell_type": "code",
      "source": [
        "class ContaBancaria():\n",
        "  def __init__(self, nome, idade):\n",
        "    self.nome = nome\n",
        "    self.idade = idade\n",
        "    self.saldo = float(0)\n",
        "    self.status_conta = False\n",
        "\n",
        "  # Funções\n",
        "  def ativar_conta(self):\n",
        "    pergunta_de_ativacao = int(input('Deseja ativar a sua conta agora?\\nDigite 0 para sim ou 1 para não: '))\n",
        "    if pergunta_de_ativacao == 0:\n",
        "      self.status_conta = True\n",
        "      print(f'Parabéns {self.nome}, sua conta bancária acaba de ser ativada!')\n",
        "    else:\n",
        "      print(f'Ok {self.nome}, volte novamente quando quiser ativar a sua conta.')\n",
        "\n",
        "  def depositar(self):\n",
        "    if self.status_conta == True:\n",
        "      print(f'Cliente: {self.nome}\\nSaldo atual: R${self.saldo}.')\n",
        "      deposito = float(input('Digite o valor do depósito: R$'))\n",
        "      self.saldo += deposito\n",
        "      return f'Novo saldo: R${self.saldo}.'\n",
        "    else:\n",
        "      return f'Impossível realizar a ação. Para efetuar seu depósito ative sua conta antes.'\n",
        "\n",
        "  def sacar(self):\n",
        "    saque = float(input('Digite o valor do saque: R$'))\n",
        "    if self.status_conta == True and saque <= self.saldo:\n",
        "      self.saldo -= saque\n",
        "      return f'Novo saldo disponível: R${self.saldo}'\n",
        "    else:\n",
        "      return f'Impossível realizar saque. Sua conta precisa estar ativa ou com saldo suficiente'"
      ],
      "metadata": {
        "id": "7lCwZVKvAVm_"
      },
      "execution_count": null,
      "outputs": []
    },
    {
      "cell_type": "code",
      "source": [
        "conta1 = ContaBancaria('William Coelho de Morais', 28)"
      ],
      "metadata": {
        "id": "sx9yefNAFRNK"
      },
      "execution_count": null,
      "outputs": []
    },
    {
      "cell_type": "code",
      "source": [
        "print('===================================')\n",
        "print('========== BANCO AMÉRICA ==========')\n",
        "print('===================================')\n",
        "conta1.ativar_conta()\n",
        "print('---')\n",
        "\n",
        "if conta1.status_conta:\n",
        "  print(conta1.depositar())\n",
        "  print('---')\n",
        "  print(conta1.sacar())"
      ],
      "metadata": {
        "colab": {
          "base_uri": "https://localhost:8080/"
        },
        "id": "9a8uR6-gCKxN",
        "outputId": "1e4bfb5f-0d98-4017-a74b-e9786c78c4ff"
      },
      "execution_count": null,
      "outputs": [
        {
          "output_type": "stream",
          "name": "stdout",
          "text": [
            "===================================\n",
            "========== BANCO AMÉRICA ==========\n",
            "===================================\n",
            "Deseja ativar a sua conta agora?\n",
            "Digite 0 para sim ou 1 para não: 0\n",
            "Parabéns William Coelho de Morais, sua conta bancária acaba de ser ativada!\n",
            "---\n",
            "Cliente: William Coelho de Morais\n",
            "Saldo atual: R$0.0.\n",
            "Digite o valor do depósito: R$1500.53\n",
            "Novo saldo: R$1500.53.\n",
            "---\n",
            "Digite o valor do saque: R$500\n",
            "Novo saldo disponível: R$1000.53\n"
          ]
        }
      ]
    },
    {
      "cell_type": "markdown",
      "source": [
        "> Crie uma classe Produto com categoria, nome e preco.\n",
        "➡️ Instancie 3 produtos e mostre seus dados.\n"
      ],
      "metadata": {
        "id": "3T-3JfoLroHd"
      }
    },
    {
      "cell_type": "code",
      "source": [
        "class Produtos():\n",
        "  def __init__(self, categoria, nome, preco):\n",
        "    self.categoria = categoria\n",
        "    self.nome = nome\n",
        "    self.preco = preco\n",
        "\n",
        "  def mostrar_dados(self):\n",
        "    print(f\"Categoria: {self.categoria}\\nNome: {self.nome}\\nPreço: R${self.preco:.2f}\")"
      ],
      "metadata": {
        "id": "BaJOsqPJtSKZ"
      },
      "execution_count": null,
      "outputs": []
    },
    {
      "cell_type": "code",
      "source": [
        "produto1 = Produtos('Cama, mesa e banho', 'Toalha de mãos', 105.75)\n",
        "produto2 = Produtos('Eletrodomésticos', 'Televisão SONY HD', 5009.99)\n",
        "produto3 = Produtos('Petshop', 'Ração Royal Cañan', 150.50)\n",
        "\n",
        "produto1.mostrar_dados()\n",
        "print('---')\n",
        "produto2.mostrar_dados()\n",
        "print('---')\n",
        "produto3.mostrar_dados()"
      ],
      "metadata": {
        "colab": {
          "base_uri": "https://localhost:8080/"
        },
        "id": "R9pYbS06t3L9",
        "outputId": "605b348e-be9b-4e7b-f370-35797c2f7e31"
      },
      "execution_count": null,
      "outputs": [
        {
          "output_type": "stream",
          "name": "stdout",
          "text": [
            "Categoria: Cama, mesa e banho\n",
            "Nome: Toalha de mãos\n",
            "Preço: R$105.75\n",
            "---\n",
            "Categoria: Eletrodomésticos\n",
            "Nome: Televisão SONY HD\n",
            "Preço: R$5009.99\n",
            "---\n",
            "Categoria: Petshop\n",
            "Nome: Ração Royal Cañan\n",
            "Preço: R$150.50\n"
          ]
        }
      ]
    },
    {
      "cell_type": "markdown",
      "source": [
        "> Crie uma classe Carrinho que permite adicionar produtos em uma lista.\n",
        "➡️ Crie um método para mostrar os produtos do carrinho.\n",
        "\n",
        "- Na classe Carrinho, crie um método total() que retorna a soma dos preços dos produtos."
      ],
      "metadata": {
        "id": "-N8nCwp4BJLw"
      }
    },
    {
      "cell_type": "code",
      "source": [
        "class Carrinho():\n",
        "  def adicionar_carrinho(self, produto):\n",
        "    self.produto = []"
      ],
      "metadata": {
        "id": "z9IQUgRzBLCB"
      },
      "execution_count": null,
      "outputs": []
    },
    {
      "cell_type": "markdown",
      "source": [
        "> Crie uma classe Cliente que possui um Carrinho.\n",
        "➡️ Permita adicionar produtos ao carrinho do cliente."
      ],
      "metadata": {
        "id": "bfE6NpO7BB1Q"
      }
    },
    {
      "cell_type": "code",
      "source": [],
      "metadata": {
        "id": "3dDdZPpMBLYK"
      },
      "execution_count": null,
      "outputs": []
    },
    {
      "cell_type": "markdown",
      "source": [
        "> Implemente um sistema simples de biblioteca com as classes:\n",
        "\n",
        "- Livro (título, autor, disponível=True)\n",
        "\n",
        "- Usuario (nome, lista de livros emprestados)\n",
        "\n",
        "- Métodos para emprestar_livro e devolver_livro"
      ],
      "metadata": {
        "id": "cTyANsY_smBM"
      }
    },
    {
      "cell_type": "code",
      "source": [],
      "metadata": {
        "id": "qv5HB6JismvE"
      },
      "execution_count": null,
      "outputs": []
    }
  ]
}